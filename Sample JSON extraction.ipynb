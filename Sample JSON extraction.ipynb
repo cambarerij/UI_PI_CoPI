{
 "cells": [
  {
   "cell_type": "code",
   "execution_count": 1,
   "id": "33a1b870",
   "metadata": {},
   "outputs": [],
   "source": [
    "import json\n",
    "import pandas as pd"
   ]
  },
  {
   "cell_type": "code",
   "execution_count": 2,
   "id": "cf1aa182",
   "metadata": {},
   "outputs": [],
   "source": [
    "# Load the JSON data from the file\n",
    "with open('university_of_idaho_awards_last_5_years.json', 'r') as f:\n",
    "    data = json.load(f)"
   ]
  },
  {
   "cell_type": "code",
   "execution_count": 3,
   "id": "22ff2bb5",
   "metadata": {},
   "outputs": [],
   "source": [
    "# Extract relevant fields and create a list of dictionaries\n",
    "awards_data = []\n",
    "for project in data.get('results', []):\n",
    "    org_name = project.get('organization', {}).get('org_name', '')\n",
    "    project_num = project.get('project_num', '')\n",
    "   \n",
    "    # Principal Investigators (concatenating names if more than one PI)\n",
    "    principal_investigators = \", \".join(\n",
    "        [pi.get('full_name', '') for pi in project.get('principal_investigators', [])]\n",
    "    )\n",
    "   \n",
    "    direct_cost_amt = project.get('direct_cost_amt', 0)\n",
    "   \n",
    "    awards_data.append({\n",
    "        \"Organization\": org_name,\n",
    "        \"ProjectNum\": project_num,\n",
    "        \"PrincipalInvestigators\": principal_investigators,\n",
    "        \"DirectCostAmt\": direct_cost_amt\n",
    "    })"
   ]
  },
  {
   "cell_type": "code",
   "execution_count": 4,
   "id": "2a614136",
   "metadata": {},
   "outputs": [],
   "source": [
    "# Create a DataFrame\n",
    "df = pd.DataFrame(awards_data)"
   ]
  },
  {
   "cell_type": "code",
   "execution_count": 5,
   "id": "d71e8c1f",
   "metadata": {},
   "outputs": [
    {
     "name": "stdout",
     "output_type": "stream",
     "text": [
      "            Organization         ProjectNum            PrincipalInvestigators  \\\n",
      "0    UNIVERSITY OF IDAHO    1R56HD113572-01                       Yimin  Chen   \n",
      "1    UNIVERSITY OF IDAHO  1R21AI180738-01A1                SCOTT S GRIESHABER   \n",
      "2    UNIVERSITY OF IDAHO    1R16GM154706-01                       Ginny  Lane   \n",
      "3    UNIVERSITY OF IDAHO    1R25GM154336-01  Maitreya J Dunham, Paul A Rowley   \n",
      "4    UNIVERSITY OF IDAHO    1P20GM152304-01                 Janet E. Williams   \n",
      "..                   ...                ...                               ...   \n",
      "151  UNIVERSITY OF IDAHO    5P20GM103408-20                   Scott A Minnich   \n",
      "152  UNIVERSITY OF IDAHO    5P20GM103408-20              Carolyn Hovde Bohach   \n",
      "153  UNIVERSITY OF IDAHO    5P20GM103408-20                 Kenneth A Cornell   \n",
      "154  UNIVERSITY OF IDAHO    5P20GM104420-05                     Tanya A Miura   \n",
      "155  UNIVERSITY OF IDAHO    2P20GM103408-19                 Mark Joseph Rudin   \n",
      "\n",
      "     DirectCostAmt  \n",
      "0           203409  \n",
      "1           135000  \n",
      "2           100000  \n",
      "3           258307  \n",
      "4           388362  \n",
      "..             ...  \n",
      "151         848205  \n",
      "152        1968286  \n",
      "153         140500  \n",
      "154         233045  \n",
      "155         249462  \n",
      "\n",
      "[156 rows x 4 columns]\n"
     ]
    }
   ],
   "source": [
    "# Display the DataFrame\n",
    "print(df)"
   ]
  },
  {
   "cell_type": "code",
   "execution_count": null,
   "id": "a1f9f66b",
   "metadata": {},
   "outputs": [],
   "source": []
  }
 ],
 "metadata": {
  "kernelspec": {
   "display_name": "Python 3 (ipykernel)",
   "language": "python",
   "name": "python3"
  },
  "language_info": {
   "codemirror_mode": {
    "name": "ipython",
    "version": 3
   },
   "file_extension": ".py",
   "mimetype": "text/x-python",
   "name": "python",
   "nbconvert_exporter": "python",
   "pygments_lexer": "ipython3",
   "version": "3.9.13"
  }
 },
 "nbformat": 4,
 "nbformat_minor": 5
}
