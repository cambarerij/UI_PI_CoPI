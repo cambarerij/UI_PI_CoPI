{
 "cells": [
  {
   "cell_type": "code",
   "execution_count": 1,
   "id": "2825a634",
   "metadata": {},
   "outputs": [],
   "source": [
    "import requests\n",
    "import json\n",
    "from datetime import datetime"
   ]
  },
  {
   "cell_type": "code",
   "execution_count": 2,
   "id": "e33ed01e",
   "metadata": {},
   "outputs": [],
   "source": [
    "# Define the current year and calculate the starting fiscal year (5 years ago)\n",
    "current_year = datetime.now().year\n",
    "start_fiscal_year = current_year - 5"
   ]
  },
  {
   "cell_type": "code",
   "execution_count": 4,
   "id": "e16467d6",
   "metadata": {},
   "outputs": [],
   "source": [
    "# Define the API URL and endpoint\n",
    "url = \"https://api.reporter.nih.gov/v2/projects/search\""
   ]
  },
  {
   "cell_type": "code",
   "execution_count": 5,
   "id": "cbecb3ad",
   "metadata": {},
   "outputs": [],
   "source": [
    "# Define the API request payload\n",
    "payload = {\n",
    "    \"criteria\": {\n",
    "        \"org_names\": [\"UNIVERSITY OF IDAHO\"],  # Filter for the University of Idaho\n",
    "        \"fiscal_years\": list(range(start_fiscal_year, current_year + 1)),  # Last 5 years\n",
    "        \"newly_added_projects_only\": False  # Include all projects, not just newly added ones\n",
    "    },\n",
    "    \"include_fields\": [\n",
    "        \"ApplId\", \"SubprojectId\", \"FiscalYear\", \"ProjectNum\", \"ProjectSerialNum\",\n",
    "        \"Organization\", \"OrganizationType\", \"AwardType\", \"ActivityCode\", \"AwardAmount\",\n",
    "        \"ProjectNumSplit\", \"PrincipalInvestigators\", \"ProgramOfficers\", \"AgencyIcAdmin\",\n",
    "        \"AgencyIcFundings\", \"CongDist\", \"ProjectStartDate\", \"ProjectEndDate\", \"FullFoa\",\n",
    "        \"FullStudySection\", \"AwardNoticeDate\", \"CoreProjectNum\", \"PrefTerms\", \"ProjectTitle\",\n",
    "        \"PhrText\", \"SpendingCategoriesDesc\", \"ArraFunded\", \"BudgetStart\", \"BudgetEnd\",\n",
    "        \"CfdaCode\", \"FundingMechanism\", \"DirectCostAmt\", \"IndirectCostAmt\"\n",
    "    ],\n",
    "    \"offset\": 0,  # Start from the first record\n",
    "    \"limit\": 500,  # Number of records to fetch per request, can be adjusted\n",
    "    \"sort_field\": \"project_start_date\",\n",
    "    \"sort_order\": \"desc\"\n",
    "}"
   ]
  },
  {
   "cell_type": "code",
   "execution_count": 6,
   "id": "35a74fad",
   "metadata": {},
   "outputs": [
    {
     "name": "stdout",
     "output_type": "stream",
     "text": [
      "Data successfully downloaded and saved to 'university_of_idaho_awards_last_5_years.json'\n"
     ]
    }
   ],
   "source": [
    "# Make the API request\n",
    "response = requests.post(url, headers={\"Content-Type\": \"application/json\"}, data=json.dumps(payload))\n",
    " \n",
    "# Check for a successful response\n",
    "if response.status_code == 200:\n",
    "    data = response.json()  # Parse the JSON response\n",
    "    with open('university_of_idaho_awards_last_5_years.json', 'w') as f:\n",
    "        json.dump(data, f, indent=4)\n",
    "    print(\"Data successfully downloaded and saved to 'university_of_idaho_awards_last_5_years.json'\")\n",
    "else:\n",
    "    print(f\"Failed to retrieve data: {response.status_code} - {response.text}\")"
   ]
  },
  {
   "cell_type": "code",
   "execution_count": null,
   "id": "52d0b0d1",
   "metadata": {},
   "outputs": [],
   "source": []
  }
 ],
 "metadata": {
  "kernelspec": {
   "display_name": "Python 3 (ipykernel)",
   "language": "python",
   "name": "python3"
  },
  "language_info": {
   "codemirror_mode": {
    "name": "ipython",
    "version": 3
   },
   "file_extension": ".py",
   "mimetype": "text/x-python",
   "name": "python",
   "nbconvert_exporter": "python",
   "pygments_lexer": "ipython3",
   "version": "3.9.13"
  }
 },
 "nbformat": 4,
 "nbformat_minor": 5
}
